{
 "cells": [
  {
   "cell_type": "code",
   "execution_count": 1,
   "id": "f09f0167",
   "metadata": {},
   "outputs": [],
   "source": [
    "import pickle\n",
    "from flask import Flask, request, jsonify, render_template\n",
    "import numpy as np\n",
    "import pandas as pd\n",
    "from sklearn.preprocessing import StandardScaler"
   ]
  },
  {
   "cell_type": "code",
   "execution_count": 2,
   "id": "dadefb66",
   "metadata": {},
   "outputs": [],
   "source": [
    "scaler_model = pickle.load(open('models/scaler_cancer.pkl','rb'))\n",
    "model_svm    = pickle.load(open('models/modelsvm_cancer.pkl','rb'))\n"
   ]
  },
  {
   "cell_type": "code",
   "execution_count": 6,
   "id": "4e0240cb",
   "metadata": {},
   "outputs": [
    {
     "name": "stdout",
     "output_type": "stream",
     "text": [
      " * Serving Flask app '__main__'\n",
      " * Debug mode: on\n"
     ]
    },
    {
     "name": "stderr",
     "output_type": "stream",
     "text": [
      "WARNING: This is a development server. Do not use it in a production deployment. Use a production WSGI server instead.\n",
      " * Running on all addresses (0.0.0.0)\n",
      " * Running on http://127.0.0.1:5000\n",
      " * Running on http://172.20.206.215:5000\n",
      "Press CTRL+C to quit\n",
      "127.0.0.1 - - [28/Sep/2025 11:48:31] \"GET / HTTP/1.1\" 200 -\n",
      "c:\\Users\\Lenovo\\miniconda3\\Lib\\site-packages\\sklearn\\utils\\validation.py:2749: UserWarning: X does not have valid feature names, but StandardScaler was fitted with feature names\n",
      "  warnings.warn(\n",
      "c:\\Users\\Lenovo\\miniconda3\\Lib\\site-packages\\sklearn\\utils\\validation.py:2749: UserWarning: X does not have valid feature names, but SVC was fitted with feature names\n",
      "  warnings.warn(\n",
      "127.0.0.1 - - [28/Sep/2025 11:49:46] \"POST /predictdata HTTP/1.1\" 200 -\n",
      "127.0.0.1 - - [28/Sep/2025 11:49:56] \"GET / HTTP/1.1\" 200 -\n"
     ]
    }
   ],
   "source": [
    "application = Flask(__name__)\n",
    "app = application\n",
    "\n",
    "@app.route(\"/\")\n",
    "def index():\n",
    "    return render_template('index.html')\n",
    "\n",
    "@app.route(\"/predictdata\",methods=['GET', 'POST'])\n",
    "def predict_datapoint():\n",
    "    if request.method==\"POST\":\n",
    "        radius_mean = float(request.form.get('radius_mean'))\n",
    "        texture_mean = float(request.form.get('texture_mean'))\n",
    "        perimeter_mean = float(request.form.get('perimeter_mean'))\n",
    "        area_mean = float(request.form.get('area_mean'))\n",
    "        smoothness_mean = float(request.form.get('smoothness_mean'))\n",
    "        compactness_mean = float(request.form.get('compactness_mean'))\n",
    "        concavity_mean = float(request.form.get('concavity_mean'))\n",
    "        concave_points_mean = float(request.form.get('concave_points_mean'))\n",
    "        symmetry_mean = float(request.form.get('symmetry_mean'))\n",
    "        fractal_dimension_mean = float(request.form.get('fractal_dimension_mean'))\n",
    "        \n",
    "        radius_se = float(request.form.get('radius_se'))\n",
    "        texture_se = float(request.form.get('texture_se'))\n",
    "        perimeter_se = float(request.form.get('perimeter_se'))\n",
    "        area_se = float(request.form.get('area_se'))\n",
    "        smoothness_se = float(request.form.get('smoothness_se'))\n",
    "        compactness_se = float(request.form.get('compactness_se'))\n",
    "        concavity_se = float(request.form.get('concavity_se'))\n",
    "        concave_points_se = float(request.form.get('concave_points_se'))\n",
    "        symmetry_se = float(request.form.get('symmetry_se'))\n",
    "        fractal_dimension_se = float(request.form.get('fractal_dimension_se'))\n",
    "\n",
    "        radius_worst = float(request.form.get('radius_worst'))\n",
    "        texture_worst = float(request.form.get('texture_worst'))\n",
    "        perimeter_worst = float(request.form.get('perimeter_worst'))\n",
    "        area_worst = float(request.form.get('area_worst'))\n",
    "        smoothness_worst = float(request.form.get('smoothness_worst'))\n",
    "        compactness_worst = float(request.form.get('compactness_worst'))\n",
    "        concavity_worst = float(request.form.get('concavity_worst'))\n",
    "        concave_points_worst = float(request.form.get('concave_points_worst'))\n",
    "        symmetry_worst = float(request.form.get('symmetry_worst'))\n",
    "        fractal_dimension_worst = float(request.form.get('fractal_dimension_worst'))\n",
    "\n",
    "        new_data_scale = scaler_model.transform([[radius_mean,texture_mean,perimeter_mean , area_mean , smoothness_mean,\n",
    "                                compactness_mean ,concavity_mean ,concave_points_mean, symmetry_mean, fractal_dimension_mean ,\n",
    "\n",
    "                                radius_se, texture_se, perimeter_se, area_se, smoothness_se , \n",
    "                                compactness_se , concavity_se, concave_points_se , symmetry_se , fractal_dimension_se,\n",
    "                                 \n",
    "                                radius_worst, texture_worst, perimeter_worst ,  area_worst,smoothness_worst,\n",
    "                                compactness_worst, concavity_worst, concave_points_worst, symmetry_worst, fractal_dimension_worst ]])\n",
    "        \n",
    "        result = model_svm.predict(new_data_scale)\n",
    "\n",
    "        return render_template('home.html', results=result[0])\n",
    "    else:\n",
    "        return render_template(\"home.html\")\n",
    "\n",
    "if __name__==\"__main__\":\n",
    "    app.run(host=\"0.0.0.0\", port=5000, debug=True, use_reloader=False)"
   ]
  }
 ],
 "metadata": {
  "kernelspec": {
   "display_name": "base",
   "language": "python",
   "name": "python3"
  },
  "language_info": {
   "codemirror_mode": {
    "name": "ipython",
    "version": 3
   },
   "file_extension": ".py",
   "mimetype": "text/x-python",
   "name": "python",
   "nbconvert_exporter": "python",
   "pygments_lexer": "ipython3",
   "version": "3.13.2"
  }
 },
 "nbformat": 4,
 "nbformat_minor": 5
}
